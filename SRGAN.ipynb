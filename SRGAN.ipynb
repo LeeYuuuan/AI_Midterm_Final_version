{
 "cells": [
  {
   "cell_type": "code",
   "execution_count": 1,
   "metadata": {},
   "outputs": [
    {
     "name": "stdout",
     "output_type": "stream",
     "text": [
      "Folder 'training_results/fake_data' successfully zipped to 'training_results/fake_data.zip'\n"
     ]
    }
   ],
   "source": [
    "import torch\n",
    "import torch.nn as nn\n",
    "import torch.optim as optim\n",
    "from torchvision import datasets, transforms\n",
    "from torchvision.utils import save_image\n",
    "from torch.utils.data import Dataset, DataLoader\n",
    "from tqdm import tqdm\n",
    "import os\n",
    "import sys\n",
    "\n",
    "import numpy as np\n",
    "from PIL import Image\n",
    "import matplotlib.pyplot as plt\n",
    "\n",
    "from sklearn.model_selection import train_test_split\n",
    "\n",
    "\n",
    "from torchvision.transforms import Compose, RandomCrop, ToTensor, ToPILImage, CenterCrop, Resize\n",
    "\n",
    "from math import log10\n",
    "import torchvision.utils as utils\n",
    "from utils import preprocess, Lr_Hr_dataset, zip_folder, Cat_dog_dataset, generate_dataset, plot_loss\n",
    "from SRGANLOSS import GeneratorLoss\n",
    "from SRGAN import Generator, Discriminator\n",
    "import pandas as pd\n",
    "device = 'cuda' if torch.cuda.is_available() else 'cpu'"
   ]
  },
  {
   "cell_type": "code",
   "execution_count": 44,
   "metadata": {},
   "outputs": [
    {
     "name": "stderr",
     "output_type": "stream",
     "text": [
      "100%|██████████| 25000/25000 [00:04<00:00, 5149.58it/s] \n",
      "100%|██████████| 25000/25000 [01:26<00:00, 289.05it/s]\n"
     ]
    }
   ],
   "source": [
    "cat_and_dog_images_hr, labels = preprocess('C:/STD/Course/AI Application/Applied_AI_midterm_exam/dataset/train.zip')\n",
    "lr_hr_dataset = Lr_Hr_dataset(cat_and_dog_dataset=cat_and_dog_images_hr, labels=labels, transform=transforms.Compose([transforms.ToTensor()]))"
   ]
  },
  {
   "cell_type": "code",
   "execution_count": 45,
   "metadata": {},
   "outputs": [],
   "source": [
    "train_dataset, test_dataset = train_test_split(lr_hr_dataset, test_size=0.3, random_state=42)\n",
    "train_loader = DataLoader(train_dataset, batch_size=32, shuffle=True)\n",
    "test_loader = DataLoader(test_dataset, batch_size=32, shuffle=False)"
   ]
  },
  {
   "cell_type": "code",
   "execution_count": 8,
   "metadata": {},
   "outputs": [],
   "source": [
    "def weights_init(m):\n",
    "    if isinstance(m, nn.Conv2d) or isinstance(m, nn.Linear):\n",
    "        nn.init.normal_(m.weight, 0.0, 0.02)\n",
    "        if m.bias is not None:\n",
    "            nn.init.zeros_(m.bias)\n",
    "            \n"
   ]
  },
  {
   "cell_type": "code",
   "execution_count": 66,
   "metadata": {},
   "outputs": [],
   "source": [
    "def train(train_loader, test_loader, num_epochs=150, learning_rate=0.0001):\n",
    "    netG = Generator(scale_factor=4)\n",
    "    netD = Discriminator()\n",
    "    netG.apply(weights_init)\n",
    "    netD.apply(weights_init)\n",
    "    generator_criterion = GeneratorLoss()\n",
    "    if device == 'cuda':\n",
    "        netG.cuda()\n",
    "        netD.cuda()\n",
    "        generator_criterion.cuda()\n",
    "\n",
    "    optimizerG = optim.Adam(netG.parameters(), lr=learning_rate*3)\n",
    "    optimizerD = optim.Adam(netD.parameters(), lr=learning_rate/10)\n",
    "    results = {'d_loss': [], 'g_loss': [], 'd_score': [], 'g_score': [], 'psnr': [], 'ssim': []}\n",
    "\n",
    "    for epoch in range(0, num_epochs):\n",
    "        running_results = {'batch_sizes': 0, 'd_loss': 0, 'g_loss': 0, 'd_score': 0, 'g_score': 0}\n",
    "\n",
    "        netG.train()\n",
    "        netD.train()\n",
    "\n",
    "        train_bar = tqdm(train_loader, mininterval=1, leave=True, ncols=100, desc=f\"Epoch {epoch+1}/{num_epochs}\", file=sys.stdout, disable=False, miniters=1)\n",
    "\n",
    "        for data, target, _ in train_bar:\n",
    "            batch_size = data.size(0)\n",
    "            running_results['batch_sizes'] += batch_size\n",
    "\n",
    "            # training generator\n",
    "            real_img = target\n",
    "            z = data\n",
    "            if device == 'cuda':\n",
    "                z = z.float().cuda()\n",
    "                real_img = real_img.float().cuda()\n",
    "\n",
    "            fake_img = netG(z)\n",
    "            fake_out = netD(fake_img).mean()\n",
    "\n",
    "            optimizerG.zero_grad()\n",
    "            g_loss = generator_criterion(fake_out, fake_img, real_img)\n",
    "            g_loss.backward()\n",
    "            optimizerG.step()\n",
    "\n",
    "            # training discriminator\n",
    "            real_out = netD(real_img).mean()\n",
    "            fake_out = netD(fake_img.detach()).mean()\n",
    "            d_loss = 1 - real_out + fake_out\n",
    "\n",
    "            optimizerD.zero_grad()\n",
    "            d_loss.backward()\n",
    "            fake_img = netG(z)\n",
    "            fake_out = netD(fake_img).mean()\n",
    "            \n",
    "            optimizerD.step()\n",
    "\n",
    "            # accumulate losses and scores for the current batch\n",
    "            running_results['g_loss'] += g_loss.item() * batch_size\n",
    "            running_results['d_loss'] += d_loss.item() * batch_size\n",
    "            running_results['d_score'] += real_out.item() * batch_size\n",
    "            running_results['g_score'] += fake_out.item() * batch_size\n",
    "\n",
    "\n",
    "            train_bar.set_postfix({\n",
    "                'Loss_D': running_results['d_loss'] / running_results['batch_sizes'],\n",
    "                'Loss_G': running_results['g_loss'] / running_results['batch_sizes']\n",
    "            })\n",
    "\n",
    "     \n",
    "        netG.eval()\n",
    "        valing_results = {'mse': 0, 'psnr': 0, 'batch_sizes': 0}\n",
    "        with torch.no_grad():\n",
    "            val_images = []\n",
    "\n",
    "            val_bar = tqdm(test_loader, mininterval=1, leave=True, ncols=100, desc=f\"Validation {epoch+1}/{num_epochs}\")\n",
    "            for val_lr, val_hr, _ in val_bar:\n",
    "                batch_size = val_lr.size(0)\n",
    "                valing_results['batch_sizes'] += batch_size\n",
    "                lr = val_lr\n",
    "                hr = val_hr\n",
    "                if device == 'cuda':\n",
    "                    lr = lr.float().cuda()\n",
    "                    hr = hr.float().cuda()\n",
    "                sr = netG(lr)\n",
    "\n",
    "                batch_mse = ((sr - hr) ** 2).data.mean()\n",
    "                valing_results['mse'] += batch_mse * batch_size\n",
    "\n",
    "                valing_results['psnr'] = 10 * log10((hr.max() ** 2) / (valing_results['mse'] / valing_results['batch_sizes']))\n",
    "                \n",
    "\n",
    "        results['d_loss'].append(running_results['d_loss'] / running_results['batch_sizes'])\n",
    "        results['g_loss'].append(running_results['g_loss'] / running_results['batch_sizes'])\n",
    "        results['d_score'].append(running_results['d_score'] / running_results['batch_sizes'])\n",
    "        results['g_score'].append(running_results['g_score'] / running_results['batch_sizes'])\n",
    "        results['psnr'].append(valing_results['psnr'])\n",
    "\n",
    "  \n",
    "        out_path = './'\n",
    "        if not os.path.exists(out_path):\n",
    "            os.makedirs(out_path)\n",
    "        data_frame = pd.DataFrame(\n",
    "            data={'Loss_D': results['d_loss'], 'Loss_G': results['g_loss'], 'Score_D': results['d_score'],\n",
    "                  'Score_G': results['g_score'], 'PSNR': results['psnr']},\n",
    "            index=range(1, epoch + 2)) \n",
    "        data_frame.to_csv(out_path + 'srf_' + str(4) + '_train_results.csv', index_label='Epoch')\n",
    "\n",
    "    \n",
    "    return netG, data_frame"
   ]
  },
  {
   "cell_type": "code",
   "execution_count": 59,
   "metadata": {},
   "outputs": [
    {
     "data": {
      "image/png": "[encoded data removed]",
      "text/plain": [
       "<Figure size 640x480 with 1 Axes>"
      ]
     },
     "metadata": {},
     "output_type": "display_data"
    }
   ],
   "source": [
    "for x, y, z in test_loader:\n",
    "    plt.imshow(np.transpose(x[0].numpy(), (1, 2, 0)))\n",
    "    plt.imshow(np.transpose(y[0].numpy(), (1, 2, 0)))\n",
    "    break"
   ]
  },
  {
   "cell_type": "code",
   "execution_count": 68,
   "metadata": {},
   "outputs": [
    {
     "name": "stdout",
     "output_type": "stream",
     "text": [
      "Epoch 1/150: 100%|████████████████████| 547/547 [00:51<00:00, 10.62it/s, Loss_D=0.63, Loss_G=0.0114]\n"
     ]
    },
    {
     "name": "stderr",
     "output_type": "stream",
     "text": [
      "Validation 1/150: 100%|██████████████████████████████████████████| 235/235 [00:01<00:00, 174.42it/s]\n"
     ]
    },
    {
     "name": "stdout",
     "output_type": "stream",
     "text": [
      "Epoch 2/150: 100%|█████████████████| 547/547 [00:51<00:00, 10.65it/s, Loss_D=0.0872, Loss_G=0.00855]\n"
     ]
    },
    {
     "name": "stderr",
     "output_type": "stream",
     "text": [
      "Validation 2/150: 100%|██████████████████████████████████████████| 235/235 [00:01<00:00, 176.24it/s]\n"
     ]
    },
    {
     "name": "stdout",
     "output_type": "stream",
     "text": [
      "Epoch 3/150: 100%|█████████████████| 547/547 [00:51<00:00, 10.53it/s, Loss_D=0.0187, Loss_G=0.00796]\n"
     ]
    },
    {
     "name": "stderr",
     "output_type": "stream",
     "text": [
      "Validation 3/150: 100%|██████████████████████████████████████████| 235/235 [00:01<00:00, 135.40it/s]\n"
     ]
    },
    {
     "name": "stdout",
     "output_type": "stream",
     "text": [
      "Epoch 4/150: 100%|██████████████████| 547/547 [00:53<00:00, 10.30it/s, Loss_D=0.611, Loss_G=0.00772]\n"
     ]
    },
    {
     "name": "stderr",
     "output_type": "stream",
     "text": [
      "Validation 4/150: 100%|██████████████████████████████████████████| 235/235 [00:01<00:00, 159.16it/s]\n"
     ]
    },
    {
     "name": "stdout",
     "output_type": "stream",
     "text": [
      "Epoch 5/150: 100%|█████████████████| 547/547 [00:51<00:00, 10.63it/s, Loss_D=0.0229, Loss_G=0.00734]\n"
     ]
    },
    {
     "name": "stderr",
     "output_type": "stream",
     "text": [
      "Validation 5/150: 100%|██████████████████████████████████████████| 235/235 [00:01<00:00, 179.88it/s]\n"
     ]
    },
    {
     "name": "stdout",
     "output_type": "stream",
     "text": [
      "Epoch 6/150: 100%|█████████████████| 547/547 [00:50<00:00, 10.79it/s, Loss_D=0.0102, Loss_G=0.00708]\n"
     ]
    },
    {
     "name": "stderr",
     "output_type": "stream",
     "text": [
      "Validation 6/150: 100%|██████████████████████████████████████████| 235/235 [00:01<00:00, 181.26it/s]\n"
     ]
    },
    {
     "name": "stdout",
     "output_type": "stream",
     "text": [
      "Epoch 7/150: 100%|████████████████| 547/547 [00:50<00:00, 10.76it/s, Loss_D=0.00595, Loss_G=0.00688]\n"
     ]
    },
    {
     "name": "stderr",
     "output_type": "stream",
     "text": [
      "Validation 7/150: 100%|██████████████████████████████████████████| 235/235 [00:01<00:00, 180.31it/s]\n"
     ]
    },
    {
     "name": "stdout",
     "output_type": "stream",
     "text": [
      "Epoch 8/150: 100%|████████████████| 547/547 [00:50<00:00, 10.74it/s, Loss_D=0.00393, Loss_G=0.00675]\n"
     ]
    },
    {
     "name": "stderr",
     "output_type": "stream",
     "text": [
      "Validation 8/150: 100%|██████████████████████████████████████████| 235/235 [00:01<00:00, 174.25it/s]\n"
     ]
    },
    {
     "name": "stdout",
     "output_type": "stream",
     "text": [
      "Epoch 9/150: 100%|████████████████| 547/547 [00:50<00:00, 10.74it/s, Loss_D=0.00262, Loss_G=0.00661]\n"
     ]
    },
    {
     "name": "stderr",
     "output_type": "stream",
     "text": [
      "Validation 9/150: 100%|██████████████████████████████████████████| 235/235 [00:01<00:00, 177.59it/s]\n"
     ]
    },
    {
     "name": "stdout",
     "output_type": "stream",
     "text": [
      "Epoch 10/150: 100%|███████████████| 547/547 [00:51<00:00, 10.67it/s, Loss_D=0.00177, Loss_G=0.00647]\n"
     ]
    },
    {
     "name": "stderr",
     "output_type": "stream",
     "text": [
      "Validation 10/150: 100%|█████████████████████████████████████████| 235/235 [00:01<00:00, 178.66it/s]\n"
     ]
    },
    {
     "name": "stdout",
     "output_type": "stream",
     "text": [
      "Epoch 11/150: 100%|███████████████| 547/547 [00:51<00:00, 10.64it/s, Loss_D=0.00115, Loss_G=0.00636]\n"
     ]
    },
    {
     "name": "stderr",
     "output_type": "stream",
     "text": [
      "Validation 11/150: 100%|█████████████████████████████████████████| 235/235 [00:01<00:00, 176.03it/s]\n"
     ]
    },
    {
     "name": "stdout",
     "output_type": "stream",
     "text": [
      "Epoch 12/150: 100%|██████████████| 547/547 [00:51<00:00, 10.67it/s, Loss_D=0.000851, Loss_G=0.00627]\n"
     ]
    },
    {
     "name": "stderr",
     "output_type": "stream",
     "text": [
      "Validation 12/150: 100%|█████████████████████████████████████████| 235/235 [00:01<00:00, 175.91it/s]\n"
     ]
    },
    {
     "name": "stdout",
     "output_type": "stream",
     "text": [
      "Epoch 13/150: 100%|██████████████| 547/547 [00:50<00:00, 10.75it/s, Loss_D=0.000544, Loss_G=0.00614]\n"
     ]
    },
    {
     "name": "stderr",
     "output_type": "stream",
     "text": [
      "Validation 13/150: 100%|█████████████████████████████████████████| 235/235 [00:01<00:00, 177.74it/s]\n"
     ]
    },
    {
     "name": "stdout",
     "output_type": "stream",
     "text": [
      "Epoch 14/150: 100%|██████████████| 547/547 [00:51<00:00, 10.69it/s, Loss_D=0.000431, Loss_G=0.00604]\n"
     ]
    },
    {
     "name": "stderr",
     "output_type": "stream",
     "text": [
      "Validation 14/150: 100%|█████████████████████████████████████████| 235/235 [00:01<00:00, 169.91it/s]\n"
     ]
    },
    {
     "name": "stdout",
     "output_type": "stream",
     "text": [
      "Epoch 15/150: 100%|██████████████| 547/547 [00:50<00:00, 10.73it/s, Loss_D=0.000275, Loss_G=0.00601]\n"
     ]
    },
    {
     "name": "stderr",
     "output_type": "stream",
     "text": [
      "Validation 15/150: 100%|█████████████████████████████████████████| 235/235 [00:01<00:00, 181.66it/s]\n"
     ]
    },
    {
     "name": "stdout",
     "output_type": "stream",
     "text": [
      "Epoch 16/150: 100%|███████████████| 547/547 [00:50<00:00, 10.74it/s, Loss_D=0.000414, Loss_G=0.0059]\n"
     ]
    },
    {
     "name": "stderr",
     "output_type": "stream",
     "text": [
      "Validation 16/150: 100%|█████████████████████████████████████████| 235/235 [00:01<00:00, 176.25it/s]\n"
     ]
    },
    {
     "name": "stdout",
     "output_type": "stream",
     "text": [
      "Epoch 17/150: 100%|███████████████| 547/547 [00:51<00:00, 10.72it/s, Loss_D=0.000149, Loss_G=0.0058]\n"
     ]
    },
    {
     "name": "stderr",
     "output_type": "stream",
     "text": [
      "Validation 17/150: 100%|█████████████████████████████████████████| 235/235 [00:01<00:00, 176.00it/s]\n"
     ]
    },
    {
     "name": "stdout",
     "output_type": "stream",
     "text": [
      "Epoch 18/150: 100%|██████████████| 547/547 [00:51<00:00, 10.64it/s, Loss_D=0.000103, Loss_G=0.00578]\n"
     ]
    },
    {
     "name": "stderr",
     "output_type": "stream",
     "text": [
      "Validation 18/150: 100%|█████████████████████████████████████████| 235/235 [00:01<00:00, 172.57it/s]\n"
     ]
    },
    {
     "name": "stdout",
     "output_type": "stream",
     "text": [
      "Epoch 19/150: 100%|█████████████████| 547/547 [00:51<00:00, 10.62it/s, Loss_D=0.116, Loss_G=0.00571]\n"
     ]
    },
    {
     "name": "stderr",
     "output_type": "stream",
     "text": [
      "Validation 19/150: 100%|█████████████████████████████████████████| 235/235 [00:01<00:00, 174.38it/s]\n"
     ]
    },
    {
     "name": "stdout",
     "output_type": "stream",
     "text": [
      "Epoch 20/150: 100%|█████████████████| 547/547 [00:51<00:00, 10.65it/s, Loss_D=0.742, Loss_G=0.00586]\n"
     ]
    },
    {
     "name": "stderr",
     "output_type": "stream",
     "text": [
      "Validation 20/150: 100%|█████████████████████████████████████████| 235/235 [00:01<00:00, 178.13it/s]\n"
     ]
    },
    {
     "name": "stdout",
     "output_type": "stream",
     "text": [
      "Epoch 21/150: 100%|█████████████████| 547/547 [00:51<00:00, 10.61it/s, Loss_D=0.764, Loss_G=0.00593]\n"
     ]
    },
    {
     "name": "stderr",
     "output_type": "stream",
     "text": [
      "Validation 21/150: 100%|█████████████████████████████████████████| 235/235 [00:01<00:00, 181.80it/s]\n"
     ]
    },
    {
     "name": "stdout",
     "output_type": "stream",
     "text": [
      "Epoch 22/150: 100%|█████████████████| 547/547 [00:52<00:00, 10.45it/s, Loss_D=0.435, Loss_G=0.00568]\n"
     ]
    },
    {
     "name": "stderr",
     "output_type": "stream",
     "text": [
      "Validation 22/150: 100%|█████████████████████████████████████████| 235/235 [00:01<00:00, 176.72it/s]\n"
     ]
    },
    {
     "name": "stdout",
     "output_type": "stream",
     "text": [
      "Epoch 23/150: 100%|███████████████| 547/547 [00:51<00:00, 10.64it/s, Loss_D=0.00253, Loss_G=0.00551]\n"
     ]
    },
    {
     "name": "stderr",
     "output_type": "stream",
     "text": [
      "Validation 23/150: 100%|█████████████████████████████████████████| 235/235 [00:01<00:00, 179.80it/s]\n"
     ]
    },
    {
     "name": "stdout",
     "output_type": "stream",
     "text": [
      "Epoch 24/150: 100%|███████████████| 547/547 [00:50<00:00, 10.75it/s, Loss_D=0.00145, Loss_G=0.00548]\n"
     ]
    },
    {
     "name": "stderr",
     "output_type": "stream",
     "text": [
      "Validation 24/150: 100%|█████████████████████████████████████████| 235/235 [00:01<00:00, 170.85it/s]\n"
     ]
    },
    {
     "name": "stdout",
     "output_type": "stream",
     "text": [
      "Epoch 25/150: 100%|██████████████| 547/547 [00:51<00:00, 10.71it/s, Loss_D=0.000898, Loss_G=0.00543]\n"
     ]
    },
    {
     "name": "stderr",
     "output_type": "stream",
     "text": [
      "Validation 25/150: 100%|█████████████████████████████████████████| 235/235 [00:01<00:00, 176.13it/s]\n"
     ]
    },
    {
     "name": "stdout",
     "output_type": "stream",
     "text": [
      "Epoch 26/150: 100%|██████████████| 547/547 [00:51<00:00, 10.72it/s, Loss_D=0.000649, Loss_G=0.00538]\n"
     ]
    },
    {
     "name": "stderr",
     "output_type": "stream",
     "text": [
      "Validation 26/150: 100%|█████████████████████████████████████████| 235/235 [00:01<00:00, 174.19it/s]\n"
     ]
    },
    {
     "name": "stdout",
     "output_type": "stream",
     "text": [
      "Epoch 27/150: 100%|████████████████| 547/547 [00:50<00:00, 10.74it/s, Loss_D=0.0005, Loss_G=0.00536]\n"
     ]
    },
    {
     "name": "stderr",
     "output_type": "stream",
     "text": [
      "Validation 27/150: 100%|█████████████████████████████████████████| 235/235 [00:01<00:00, 176.16it/s]\n"
     ]
    },
    {
     "name": "stdout",
     "output_type": "stream",
     "text": [
      "Epoch 28/150: 100%|██████████████| 547/547 [00:51<00:00, 10.71it/s, Loss_D=0.000399, Loss_G=0.00533]\n"
     ]
    },
    {
     "name": "stderr",
     "output_type": "stream",
     "text": [
      "Validation 28/150: 100%|█████████████████████████████████████████| 235/235 [00:01<00:00, 176.31it/s]\n"
     ]
    },
    {
     "name": "stdout",
     "output_type": "stream",
     "text": [
      "Epoch 29/150: 100%|████████████████| 547/547 [00:51<00:00, 10.71it/s, Loss_D=0.00036, Loss_G=0.0053]\n"
     ]
    },
    {
     "name": "stderr",
     "output_type": "stream",
     "text": [
      "Validation 29/150: 100%|█████████████████████████████████████████| 235/235 [00:01<00:00, 177.20it/s]\n"
     ]
    },
    {
     "name": "stdout",
     "output_type": "stream",
     "text": [
      "Epoch 30/150: 100%|██████████████| 547/547 [00:51<00:00, 10.63it/s, Loss_D=0.000303, Loss_G=0.00525]\n"
     ]
    },
    {
     "name": "stderr",
     "output_type": "stream",
     "text": [
      "Validation 30/150: 100%|█████████████████████████████████████████| 235/235 [00:01<00:00, 179.45it/s]\n"
     ]
    },
    {
     "name": "stdout",
     "output_type": "stream",
     "text": [
      "Epoch 31/150: 100%|██████████████| 547/547 [00:51<00:00, 10.65it/s, Loss_D=0.000167, Loss_G=0.00524]\n"
     ]
    },
    {
     "name": "stderr",
     "output_type": "stream",
     "text": [
      "Validation 31/150: 100%|█████████████████████████████████████████| 235/235 [00:01<00:00, 177.79it/s]\n"
     ]
    },
    {
     "name": "stdout",
     "output_type": "stream",
     "text": [
      "Epoch 32/150: 100%|██████████████| 547/547 [00:51<00:00, 10.64it/s, Loss_D=0.000228, Loss_G=0.00519]\n"
     ]
    },
    {
     "name": "stderr",
     "output_type": "stream",
     "text": [
      "Validation 32/150: 100%|█████████████████████████████████████████| 235/235 [00:01<00:00, 175.67it/s]\n"
     ]
    },
    {
     "name": "stdout",
     "output_type": "stream",
     "text": [
      "Epoch 33/150: 100%|██████████████| 547/547 [00:51<00:00, 10.65it/s, Loss_D=0.000159, Loss_G=0.00515]\n"
     ]
    },
    {
     "name": "stderr",
     "output_type": "stream",
     "text": [
      "Validation 33/150: 100%|█████████████████████████████████████████| 235/235 [00:01<00:00, 176.08it/s]\n"
     ]
    },
    {
     "name": "stdout",
     "output_type": "stream",
     "text": [
      "Epoch 34/150: 100%|███████████████| 547/547 [00:51<00:00, 10.67it/s, Loss_D=0.00492, Loss_G=0.00515]\n"
     ]
    },
    {
     "name": "stderr",
     "output_type": "stream",
     "text": [
      "Validation 34/150: 100%|█████████████████████████████████████████| 235/235 [00:01<00:00, 175.18it/s]\n"
     ]
    },
    {
     "name": "stdout",
     "output_type": "stream",
     "text": [
      "Epoch 35/150: 100%|███████████████| 547/547 [00:51<00:00, 10.63it/s, Loss_D=0.00023, Loss_G=0.00512]\n"
     ]
    },
    {
     "name": "stderr",
     "output_type": "stream",
     "text": [
      "Validation 35/150: 100%|█████████████████████████████████████████| 235/235 [00:01<00:00, 174.71it/s]\n"
     ]
    },
    {
     "name": "stdout",
     "output_type": "stream",
     "text": [
      "Epoch 36/150: 100%|██████████████| 547/547 [00:51<00:00, 10.63it/s, Loss_D=0.000125, Loss_G=0.00509]\n"
     ]
    },
    {
     "name": "stderr",
     "output_type": "stream",
     "text": [
      "Validation 36/150: 100%|█████████████████████████████████████████| 235/235 [00:01<00:00, 154.01it/s]\n"
     ]
    },
    {
     "name": "stdout",
     "output_type": "stream",
     "text": [
      "Epoch 37/150: 100%|███████████████| 547/547 [00:51<00:00, 10.69it/s, Loss_D=8.24e-5, Loss_G=0.00507]\n"
     ]
    },
    {
     "name": "stderr",
     "output_type": "stream",
     "text": [
      "Validation 37/150: 100%|█████████████████████████████████████████| 235/235 [00:01<00:00, 174.17it/s]\n"
     ]
    },
    {
     "name": "stdout",
     "output_type": "stream",
     "text": [
      "Epoch 38/150: 100%|███████████████| 547/547 [00:51<00:00, 10.62it/s, Loss_D=6.45e-5, Loss_G=0.00505]\n"
     ]
    },
    {
     "name": "stderr",
     "output_type": "stream",
     "text": [
      "Validation 38/150: 100%|█████████████████████████████████████████| 235/235 [00:01<00:00, 172.77it/s]\n"
     ]
    },
    {
     "name": "stdout",
     "output_type": "stream",
     "text": [
      "Epoch 39/150: 100%|██████████████| 547/547 [00:51<00:00, 10.67it/s, Loss_D=0.000257, Loss_G=0.00503]\n"
     ]
    },
    {
     "name": "stderr",
     "output_type": "stream",
     "text": [
      "Validation 39/150: 100%|█████████████████████████████████████████| 235/235 [00:01<00:00, 174.53it/s]\n"
     ]
    },
    {
     "name": "stdout",
     "output_type": "stream",
     "text": [
      "Epoch 40/150: 100%|█████████████████| 547/547 [00:51<00:00, 10.67it/s, Loss_D=4.33e-5, Loss_G=0.005]\n"
     ]
    },
    {
     "name": "stderr",
     "output_type": "stream",
     "text": [
      "Validation 40/150: 100%|█████████████████████████████████████████| 235/235 [00:01<00:00, 170.61it/s]\n"
     ]
    },
    {
     "name": "stdout",
     "output_type": "stream",
     "text": [
      "Epoch 41/150: 100%|███████████████| 547/547 [00:51<00:00, 10.64it/s, Loss_D=2.96e-5, Loss_G=0.00498]\n"
     ]
    },
    {
     "name": "stderr",
     "output_type": "stream",
     "text": [
      "Validation 41/150: 100%|█████████████████████████████████████████| 235/235 [00:01<00:00, 169.82it/s]\n"
     ]
    },
    {
     "name": "stdout",
     "output_type": "stream",
     "text": [
      "Epoch 42/150: 100%|███████████████| 547/547 [00:51<00:00, 10.64it/s, Loss_D=2.64e-5, Loss_G=0.00496]\n"
     ]
    },
    {
     "name": "stderr",
     "output_type": "stream",
     "text": [
      "Validation 42/150: 100%|█████████████████████████████████████████| 235/235 [00:01<00:00, 177.90it/s]\n"
     ]
    },
    {
     "name": "stdout",
     "output_type": "stream",
     "text": [
      "Epoch 43/150: 100%|███████████████| 547/547 [00:51<00:00, 10.64it/s, Loss_D=2.29e-5, Loss_G=0.00496]\n"
     ]
    },
    {
     "name": "stderr",
     "output_type": "stream",
     "text": [
      "Validation 43/150: 100%|█████████████████████████████████████████| 235/235 [00:01<00:00, 176.71it/s]\n"
     ]
    },
    {
     "name": "stdout",
     "output_type": "stream",
     "text": [
      "Epoch 44/150: 100%|███████████████| 547/547 [00:51<00:00, 10.66it/s, Loss_D=2.13e-5, Loss_G=0.00494]\n"
     ]
    },
    {
     "name": "stderr",
     "output_type": "stream",
     "text": [
      "Validation 44/150: 100%|█████████████████████████████████████████| 235/235 [00:01<00:00, 179.26it/s]\n"
     ]
    },
    {
     "name": "stdout",
     "output_type": "stream",
     "text": [
      "Epoch 45/150: 100%|████████████████| 547/547 [00:51<00:00, 10.67it/s, Loss_D=0.0485, Loss_G=0.00493]\n"
     ]
    },
    {
     "name": "stderr",
     "output_type": "stream",
     "text": [
      "Validation 45/150: 100%|█████████████████████████████████████████| 235/235 [00:01<00:00, 179.17it/s]\n"
     ]
    },
    {
     "name": "stdout",
     "output_type": "stream",
     "text": [
      "Epoch 46/150: 100%|██████████████| 547/547 [00:51<00:00, 10.66it/s, Loss_D=0.000136, Loss_G=0.00489]\n"
     ]
    },
    {
     "name": "stderr",
     "output_type": "stream",
     "text": [
      "Validation 46/150: 100%|█████████████████████████████████████████| 235/235 [00:01<00:00, 172.61it/s]\n"
     ]
    },
    {
     "name": "stdout",
     "output_type": "stream",
     "text": [
      "Epoch 47/150: 100%|███████████████| 547/547 [00:51<00:00, 10.67it/s, Loss_D=8.27e-5, Loss_G=0.00489]\n"
     ]
    },
    {
     "name": "stderr",
     "output_type": "stream",
     "text": [
      "Validation 47/150: 100%|█████████████████████████████████████████| 235/235 [00:01<00:00, 174.02it/s]\n"
     ]
    },
    {
     "name": "stdout",
     "output_type": "stream",
     "text": [
      "Epoch 48/150: 100%|██████████████| 547/547 [00:51<00:00, 10.66it/s, Loss_D=0.000167, Loss_G=0.00487]\n"
     ]
    },
    {
     "name": "stderr",
     "output_type": "stream",
     "text": [
      "Validation 48/150: 100%|█████████████████████████████████████████| 235/235 [00:01<00:00, 174.84it/s]\n"
     ]
    },
    {
     "name": "stdout",
     "output_type": "stream",
     "text": [
      "Epoch 49/150: 100%|██████████████| 547/547 [00:51<00:00, 10.65it/s, Loss_D=0.000139, Loss_G=0.00485]\n"
     ]
    },
    {
     "name": "stderr",
     "output_type": "stream",
     "text": [
      "Validation 49/150: 100%|█████████████████████████████████████████| 235/235 [00:01<00:00, 168.59it/s]\n"
     ]
    },
    {
     "name": "stdout",
     "output_type": "stream",
     "text": [
      "Epoch 50/150: 100%|███████████████| 547/547 [00:51<00:00, 10.66it/s, Loss_D=4.75e-5, Loss_G=0.00484]\n"
     ]
    },
    {
     "name": "stderr",
     "output_type": "stream",
     "text": [
      "Validation 50/150: 100%|█████████████████████████████████████████| 235/235 [00:01<00:00, 175.25it/s]\n"
     ]
    },
    {
     "name": "stdout",
     "output_type": "stream",
     "text": [
      "Epoch 51/150: 100%|███████████████| 547/547 [00:51<00:00, 10.66it/s, Loss_D=2.85e-5, Loss_G=0.00483]\n"
     ]
    },
    {
     "name": "stderr",
     "output_type": "stream",
     "text": [
      "Validation 51/150: 100%|█████████████████████████████████████████| 235/235 [00:01<00:00, 179.51it/s]\n"
     ]
    },
    {
     "name": "stdout",
     "output_type": "stream",
     "text": [
      "Epoch 52/150: 100%|███████████████| 547/547 [00:51<00:00, 10.65it/s, Loss_D=2.76e-5, Loss_G=0.00481]\n"
     ]
    },
    {
     "name": "stderr",
     "output_type": "stream",
     "text": [
      "Validation 52/150: 100%|█████████████████████████████████████████| 235/235 [00:01<00:00, 179.29it/s]\n"
     ]
    },
    {
     "name": "stdout",
     "output_type": "stream",
     "text": [
      "Epoch 53/150: 100%|███████████████| 547/547 [00:51<00:00, 10.69it/s, Loss_D=0.000177, Loss_G=0.0048]\n"
     ]
    },
    {
     "name": "stderr",
     "output_type": "stream",
     "text": [
      "Validation 53/150: 100%|█████████████████████████████████████████| 235/235 [00:01<00:00, 172.92it/s]\n"
     ]
    },
    {
     "name": "stdout",
     "output_type": "stream",
     "text": [
      "Epoch 54/150: 100%|████████████████| 547/547 [00:51<00:00, 10.67it/s, Loss_D=2.01e-5, Loss_G=0.0048]\n"
     ]
    },
    {
     "name": "stderr",
     "output_type": "stream",
     "text": [
      "Validation 54/150: 100%|█████████████████████████████████████████| 235/235 [00:01<00:00, 177.09it/s]\n"
     ]
    },
    {
     "name": "stdout",
     "output_type": "stream",
     "text": [
      "Epoch 55/150: 100%|███████████████| 547/547 [00:51<00:00, 10.68it/s, Loss_D=0.00415, Loss_G=0.00479]\n"
     ]
    },
    {
     "name": "stderr",
     "output_type": "stream",
     "text": [
      "Validation 55/150: 100%|█████████████████████████████████████████| 235/235 [00:01<00:00, 178.54it/s]\n"
     ]
    },
    {
     "name": "stdout",
     "output_type": "stream",
     "text": [
      "Epoch 56/150: 100%|███████████████| 547/547 [00:51<00:00, 10.66it/s, Loss_D=0.00011, Loss_G=0.00477]\n"
     ]
    },
    {
     "name": "stderr",
     "output_type": "stream",
     "text": [
      "Validation 56/150: 100%|█████████████████████████████████████████| 235/235 [00:01<00:00, 174.44it/s]\n"
     ]
    },
    {
     "name": "stdout",
     "output_type": "stream",
     "text": [
      "Epoch 57/150: 100%|███████████████| 547/547 [00:51<00:00, 10.67it/s, Loss_D=4.76e-5, Loss_G=0.00476]\n"
     ]
    },
    {
     "name": "stderr",
     "output_type": "stream",
     "text": [
      "Validation 57/150: 100%|█████████████████████████████████████████| 235/235 [00:01<00:00, 174.52it/s]\n"
     ]
    },
    {
     "name": "stdout",
     "output_type": "stream",
     "text": [
      "Epoch 58/150: 100%|████████████████| 547/547 [00:51<00:00, 10.67it/s, Loss_D=3.7e-5, Loss_G=0.00474]\n"
     ]
    },
    {
     "name": "stderr",
     "output_type": "stream",
     "text": [
      "Validation 58/150: 100%|█████████████████████████████████████████| 235/235 [00:01<00:00, 178.36it/s]\n"
     ]
    },
    {
     "name": "stdout",
     "output_type": "stream",
     "text": [
      "Epoch 59/150: 100%|███████████████| 547/547 [00:51<00:00, 10.67it/s, Loss_D=4.06e-5, Loss_G=0.00474]\n"
     ]
    },
    {
     "name": "stderr",
     "output_type": "stream",
     "text": [
      "Validation 59/150: 100%|█████████████████████████████████████████| 235/235 [00:01<00:00, 175.38it/s]\n"
     ]
    },
    {
     "name": "stdout",
     "output_type": "stream",
     "text": [
      "Epoch 60/150: 100%|███████████████| 547/547 [00:51<00:00, 10.66it/s, Loss_D=1.97e-5, Loss_G=0.00472]\n"
     ]
    },
    {
     "name": "stderr",
     "output_type": "stream",
     "text": [
      "Validation 60/150: 100%|█████████████████████████████████████████| 235/235 [00:01<00:00, 173.29it/s]\n"
     ]
    },
    {
     "name": "stdout",
     "output_type": "stream",
     "text": [
      "Epoch 61/150: 100%|███████████████| 547/547 [00:51<00:00, 10.66it/s, Loss_D=3.68e-5, Loss_G=0.00472]\n"
     ]
    },
    {
     "name": "stderr",
     "output_type": "stream",
     "text": [
      "Validation 61/150: 100%|█████████████████████████████████████████| 235/235 [00:01<00:00, 172.85it/s]\n"
     ]
    },
    {
     "name": "stdout",
     "output_type": "stream",
     "text": [
      "Epoch 62/150: 100%|███████████████| 547/547 [00:51<00:00, 10.67it/s, Loss_D=1.45e-5, Loss_G=0.00471]\n"
     ]
    },
    {
     "name": "stderr",
     "output_type": "stream",
     "text": [
      "Validation 62/150: 100%|█████████████████████████████████████████| 235/235 [00:01<00:00, 167.79it/s]\n"
     ]
    },
    {
     "name": "stdout",
     "output_type": "stream",
     "text": [
      "Epoch 63/150: 100%|████████████████| 547/547 [00:51<00:00, 10.66it/s, Loss_D=9.82e-6, Loss_G=0.0047]\n"
     ]
    },
    {
     "name": "stderr",
     "output_type": "stream",
     "text": [
      "Validation 63/150: 100%|█████████████████████████████████████████| 235/235 [00:01<00:00, 173.00it/s]\n"
     ]
    },
    {
     "name": "stdout",
     "output_type": "stream",
     "text": [
      "Epoch 64/150: 100%|███████████████| 547/547 [00:51<00:00, 10.65it/s, Loss_D=1.21e-5, Loss_G=0.00469]\n"
     ]
    },
    {
     "name": "stderr",
     "output_type": "stream",
     "text": [
      "Validation 64/150: 100%|█████████████████████████████████████████| 235/235 [00:01<00:00, 161.85it/s]\n"
     ]
    },
    {
     "name": "stdout",
     "output_type": "stream",
     "text": [
      "Epoch 65/150: 100%|███████████████| 547/547 [00:51<00:00, 10.65it/s, Loss_D=1.51e-5, Loss_G=0.00469]\n"
     ]
    },
    {
     "name": "stderr",
     "output_type": "stream",
     "text": [
      "Validation 65/150: 100%|█████████████████████████████████████████| 235/235 [00:01<00:00, 177.57it/s]\n"
     ]
    },
    {
     "name": "stdout",
     "output_type": "stream",
     "text": [
      "Epoch 66/150: 100%|████████████████| 547/547 [00:51<00:00, 10.61it/s, Loss_D=0.0228, Loss_G=0.00471]\n"
     ]
    },
    {
     "name": "stderr",
     "output_type": "stream",
     "text": [
      "Validation 66/150: 100%|█████████████████████████████████████████| 235/235 [00:01<00:00, 170.99it/s]\n"
     ]
    },
    {
     "name": "stdout",
     "output_type": "stream",
     "text": [
      "Epoch 67/150: 100%|███████████████| 547/547 [00:51<00:00, 10.68it/s, Loss_D=9.36e-5, Loss_G=0.00466]\n"
     ]
    },
    {
     "name": "stderr",
     "output_type": "stream",
     "text": [
      "Validation 67/150: 100%|█████████████████████████████████████████| 235/235 [00:01<00:00, 178.39it/s]\n"
     ]
    },
    {
     "name": "stdout",
     "output_type": "stream",
     "text": [
      "Epoch 68/150: 100%|███████████████| 547/547 [00:51<00:00, 10.69it/s, Loss_D=0.00011, Loss_G=0.00465]\n"
     ]
    },
    {
     "name": "stderr",
     "output_type": "stream",
     "text": [
      "Validation 68/150: 100%|█████████████████████████████████████████| 235/235 [00:01<00:00, 180.51it/s]\n"
     ]
    },
    {
     "name": "stdout",
     "output_type": "stream",
     "text": [
      "Epoch 69/150: 100%|███████████████| 547/547 [00:51<00:00, 10.61it/s, Loss_D=3.13e-5, Loss_G=0.00464]\n"
     ]
    },
    {
     "name": "stderr",
     "output_type": "stream",
     "text": [
      "Validation 69/150: 100%|█████████████████████████████████████████| 235/235 [00:01<00:00, 176.39it/s]\n"
     ]
    },
    {
     "name": "stdout",
     "output_type": "stream",
     "text": [
      "Epoch 70/150: 100%|███████████████| 547/547 [00:50<00:00, 10.74it/s, Loss_D=3.08e-5, Loss_G=0.00465]\n"
     ]
    },
    {
     "name": "stderr",
     "output_type": "stream",
     "text": [
      "Validation 70/150: 100%|█████████████████████████████████████████| 235/235 [00:01<00:00, 183.75it/s]\n"
     ]
    },
    {
     "name": "stdout",
     "output_type": "stream",
     "text": [
      "Epoch 71/150: 100%|██████████████████| 547/547 [00:50<00:00, 10.77it/s, Loss_D=5e-5, Loss_G=0.00463]\n"
     ]
    },
    {
     "name": "stderr",
     "output_type": "stream",
     "text": [
      "Validation 71/150: 100%|█████████████████████████████████████████| 235/235 [00:01<00:00, 183.78it/s]\n"
     ]
    },
    {
     "name": "stdout",
     "output_type": "stream",
     "text": [
      "Epoch 72/150: 100%|███████████████| 547/547 [00:50<00:00, 10.77it/s, Loss_D=1.81e-5, Loss_G=0.00462]\n"
     ]
    },
    {
     "name": "stderr",
     "output_type": "stream",
     "text": [
      "Validation 72/150: 100%|█████████████████████████████████████████| 235/235 [00:01<00:00, 183.29it/s]\n"
     ]
    },
    {
     "name": "stdout",
     "output_type": "stream",
     "text": [
      "Epoch 73/150: 100%|███████████████| 547/547 [00:50<00:00, 10.75it/s, Loss_D=2.14e-5, Loss_G=0.00462]\n"
     ]
    },
    {
     "name": "stderr",
     "output_type": "stream",
     "text": [
      "Validation 73/150: 100%|█████████████████████████████████████████| 235/235 [00:01<00:00, 180.78it/s]\n"
     ]
    },
    {
     "name": "stdout",
     "output_type": "stream",
     "text": [
      "Epoch 74/150: 100%|███████████████| 547/547 [00:51<00:00, 10.65it/s, Loss_D=1.43e-5, Loss_G=0.00461]\n"
     ]
    },
    {
     "name": "stderr",
     "output_type": "stream",
     "text": [
      "Validation 74/150: 100%|█████████████████████████████████████████| 235/235 [00:01<00:00, 146.31it/s]\n"
     ]
    },
    {
     "name": "stdout",
     "output_type": "stream",
     "text": [
      "Epoch 75/150: 100%|████████████████| 547/547 [00:51<00:00, 10.58it/s, Loss_D=9.78e-6, Loss_G=0.0046]\n"
     ]
    },
    {
     "name": "stderr",
     "output_type": "stream",
     "text": [
      "Validation 75/150: 100%|█████████████████████████████████████████| 235/235 [00:01<00:00, 152.45it/s]\n"
     ]
    },
    {
     "name": "stdout",
     "output_type": "stream",
     "text": [
      "Epoch 76/150: 100%|███████████████| 547/547 [00:50<00:00, 10.79it/s, Loss_D=0.00498, Loss_G=0.00461]\n"
     ]
    },
    {
     "name": "stderr",
     "output_type": "stream",
     "text": [
      "Validation 76/150: 100%|█████████████████████████████████████████| 235/235 [00:01<00:00, 179.54it/s]\n"
     ]
    },
    {
     "name": "stdout",
     "output_type": "stream",
     "text": [
      "Epoch 77/150: 100%|███████████████| 547/547 [00:51<00:00, 10.67it/s, Loss_D=7.99e-5, Loss_G=0.00459]\n"
     ]
    },
    {
     "name": "stderr",
     "output_type": "stream",
     "text": [
      "Validation 77/150: 100%|█████████████████████████████████████████| 235/235 [00:01<00:00, 165.97it/s]\n"
     ]
    },
    {
     "name": "stdout",
     "output_type": "stream",
     "text": [
      "Epoch 78/150: 100%|███████████████| 547/547 [00:51<00:00, 10.61it/s, Loss_D=2.58e-5, Loss_G=0.00458]\n"
     ]
    },
    {
     "name": "stderr",
     "output_type": "stream",
     "text": [
      "Validation 78/150: 100%|█████████████████████████████████████████| 235/235 [00:01<00:00, 181.05it/s]\n"
     ]
    },
    {
     "name": "stdout",
     "output_type": "stream",
     "text": [
      "Epoch 79/150: 100%|███████████████| 547/547 [00:50<00:00, 10.76it/s, Loss_D=1.83e-5, Loss_G=0.00458]\n"
     ]
    },
    {
     "name": "stderr",
     "output_type": "stream",
     "text": [
      "Validation 79/150: 100%|█████████████████████████████████████████| 235/235 [00:01<00:00, 174.72it/s]\n"
     ]
    },
    {
     "name": "stdout",
     "output_type": "stream",
     "text": [
      "Epoch 80/150: 100%|███████████████| 547/547 [00:51<00:00, 10.69it/s, Loss_D=1.51e-5, Loss_G=0.00457]\n"
     ]
    },
    {
     "name": "stderr",
     "output_type": "stream",
     "text": [
      "Validation 80/150: 100%|█████████████████████████████████████████| 235/235 [00:01<00:00, 176.20it/s]\n"
     ]
    },
    {
     "name": "stdout",
     "output_type": "stream",
     "text": [
      "Epoch 81/150: 100%|███████████████| 547/547 [00:51<00:00, 10.68it/s, Loss_D=4.42e-5, Loss_G=0.00456]\n"
     ]
    },
    {
     "name": "stderr",
     "output_type": "stream",
     "text": [
      "Validation 81/150: 100%|█████████████████████████████████████████| 235/235 [00:01<00:00, 170.39it/s]\n"
     ]
    },
    {
     "name": "stdout",
     "output_type": "stream",
     "text": [
      "Epoch 82/150: 100%|███████████████| 547/547 [00:52<00:00, 10.48it/s, Loss_D=1.49e-5, Loss_G=0.00456]\n"
     ]
    },
    {
     "name": "stderr",
     "output_type": "stream",
     "text": [
      "Validation 82/150: 100%|█████████████████████████████████████████| 235/235 [00:01<00:00, 130.04it/s]\n"
     ]
    },
    {
     "name": "stdout",
     "output_type": "stream",
     "text": [
      "Epoch 83/150: 100%|███████████████| 547/547 [00:51<00:00, 10.66it/s, Loss_D=8.48e-6, Loss_G=0.00456]\n"
     ]
    },
    {
     "name": "stderr",
     "output_type": "stream",
     "text": [
      "Validation 83/150: 100%|█████████████████████████████████████████| 235/235 [00:01<00:00, 177.66it/s]\n"
     ]
    },
    {
     "name": "stdout",
     "output_type": "stream",
     "text": [
      "Epoch 84/150: 100%|███████████████| 547/547 [00:51<00:00, 10.60it/s, Loss_D=7.01e-6, Loss_G=0.00455]\n"
     ]
    },
    {
     "name": "stderr",
     "output_type": "stream",
     "text": [
      "Validation 84/150: 100%|█████████████████████████████████████████| 235/235 [00:01<00:00, 177.37it/s]\n"
     ]
    },
    {
     "name": "stdout",
     "output_type": "stream",
     "text": [
      "Epoch 85/150: 100%|████████████████| 547/547 [00:51<00:00, 10.67it/s, Loss_D=6.6e-6, Loss_G=0.00454]\n"
     ]
    },
    {
     "name": "stderr",
     "output_type": "stream",
     "text": [
      "Validation 85/150: 100%|█████████████████████████████████████████| 235/235 [00:01<00:00, 182.36it/s]\n"
     ]
    },
    {
     "name": "stdout",
     "output_type": "stream",
     "text": [
      "Epoch 86/150: 100%|███████████████| 547/547 [00:51<00:00, 10.71it/s, Loss_D=5.57e-6, Loss_G=0.00454]\n"
     ]
    },
    {
     "name": "stderr",
     "output_type": "stream",
     "text": [
      "Validation 86/150: 100%|█████████████████████████████████████████| 235/235 [00:01<00:00, 182.03it/s]\n"
     ]
    },
    {
     "name": "stdout",
     "output_type": "stream",
     "text": [
      "Epoch 87/150: 100%|███████████████| 547/547 [00:51<00:00, 10.72it/s, Loss_D=1.06e-5, Loss_G=0.00453]\n"
     ]
    },
    {
     "name": "stderr",
     "output_type": "stream",
     "text": [
      "Validation 87/150: 100%|█████████████████████████████████████████| 235/235 [00:01<00:00, 176.06it/s]\n"
     ]
    },
    {
     "name": "stdout",
     "output_type": "stream",
     "text": [
      "Epoch 88/150: 100%|███████████████| 547/547 [00:51<00:00, 10.68it/s, Loss_D=0.00109, Loss_G=0.00452]\n"
     ]
    },
    {
     "name": "stderr",
     "output_type": "stream",
     "text": [
      "Validation 88/150: 100%|█████████████████████████████████████████| 235/235 [00:01<00:00, 169.76it/s]\n"
     ]
    },
    {
     "name": "stdout",
     "output_type": "stream",
     "text": [
      "Epoch 89/150: 100%|███████████████| 547/547 [00:51<00:00, 10.71it/s, Loss_D=2.22e-5, Loss_G=0.00452]\n"
     ]
    },
    {
     "name": "stderr",
     "output_type": "stream",
     "text": [
      "Validation 89/150: 100%|█████████████████████████████████████████| 235/235 [00:01<00:00, 174.65it/s]\n"
     ]
    },
    {
     "name": "stdout",
     "output_type": "stream",
     "text": [
      "Epoch 90/150: 100%|███████████████| 547/547 [00:52<00:00, 10.50it/s, Loss_D=1.09e-5, Loss_G=0.00452]\n"
     ]
    },
    {
     "name": "stderr",
     "output_type": "stream",
     "text": [
      "Validation 90/150: 100%|█████████████████████████████████████████| 235/235 [00:01<00:00, 174.64it/s]\n"
     ]
    },
    {
     "name": "stdout",
     "output_type": "stream",
     "text": [
      "Epoch 91/150: 100%|███████████████| 547/547 [00:51<00:00, 10.69it/s, Loss_D=1.37e-5, Loss_G=0.00452]\n"
     ]
    },
    {
     "name": "stderr",
     "output_type": "stream",
     "text": [
      "Validation 91/150: 100%|█████████████████████████████████████████| 235/235 [00:01<00:00, 181.21it/s]\n"
     ]
    },
    {
     "name": "stdout",
     "output_type": "stream",
     "text": [
      "Epoch 92/150: 100%|████████████████| 547/547 [00:51<00:00, 10.65it/s, Loss_D=8.94e-6, Loss_G=0.0045]\n"
     ]
    },
    {
     "name": "stderr",
     "output_type": "stream",
     "text": [
      "Validation 92/150: 100%|█████████████████████████████████████████| 235/235 [00:01<00:00, 179.18it/s]\n"
     ]
    },
    {
     "name": "stdout",
     "output_type": "stream",
     "text": [
      "Epoch 93/150: 100%|████████████████| 547/547 [00:52<00:00, 10.50it/s, Loss_D=6.64e-6, Loss_G=0.0045]\n"
     ]
    },
    {
     "name": "stderr",
     "output_type": "stream",
     "text": [
      "Validation 93/150: 100%|█████████████████████████████████████████| 235/235 [00:01<00:00, 172.12it/s]\n"
     ]
    },
    {
     "name": "stdout",
     "output_type": "stream",
     "text": [
      "Epoch 94/150: 100%|████████████████| 547/547 [00:51<00:00, 10.56it/s, Loss_D=4.93e-6, Loss_G=0.0045]\n"
     ]
    },
    {
     "name": "stderr",
     "output_type": "stream",
     "text": [
      "Validation 94/150: 100%|█████████████████████████████████████████| 235/235 [00:01<00:00, 173.38it/s]\n"
     ]
    },
    {
     "name": "stdout",
     "output_type": "stream",
     "text": [
      "Epoch 95/150: 100%|████████████████| 547/547 [00:51<00:00, 10.72it/s, Loss_D=4.02e-6, Loss_G=0.0045]\n"
     ]
    },
    {
     "name": "stderr",
     "output_type": "stream",
     "text": [
      "Validation 95/150: 100%|█████████████████████████████████████████| 235/235 [00:01<00:00, 179.22it/s]\n"
     ]
    },
    {
     "name": "stdout",
     "output_type": "stream",
     "text": [
      "Epoch 96/150: 100%|███████████████| 547/547 [00:50<00:00, 10.73it/s, Loss_D=3.39e-6, Loss_G=0.00449]\n"
     ]
    },
    {
     "name": "stderr",
     "output_type": "stream",
     "text": [
      "Validation 96/150: 100%|█████████████████████████████████████████| 235/235 [00:01<00:00, 179.22it/s]\n"
     ]
    },
    {
     "name": "stdout",
     "output_type": "stream",
     "text": [
      "Epoch 97/150: 100%|███████████████| 547/547 [00:51<00:00, 10.66it/s, Loss_D=3.27e-6, Loss_G=0.00448]\n"
     ]
    },
    {
     "name": "stderr",
     "output_type": "stream",
     "text": [
      "Validation 97/150: 100%|█████████████████████████████████████████| 235/235 [00:01<00:00, 175.41it/s]\n"
     ]
    },
    {
     "name": "stdout",
     "output_type": "stream",
     "text": [
      "Epoch 98/150: 100%|███████████████| 547/547 [00:52<00:00, 10.50it/s, Loss_D=4.47e-6, Loss_G=0.00448]\n"
     ]
    },
    {
     "name": "stderr",
     "output_type": "stream",
     "text": [
      "Validation 98/150: 100%|█████████████████████████████████████████| 235/235 [00:01<00:00, 175.80it/s]\n"
     ]
    },
    {
     "name": "stdout",
     "output_type": "stream",
     "text": [
      "Epoch 99/150: 100%|██████████████████| 547/547 [00:50<00:00, 10.74it/s, Loss_D=3e-6, Loss_G=0.00447]\n"
     ]
    },
    {
     "name": "stderr",
     "output_type": "stream",
     "text": [
      "Validation 99/150: 100%|█████████████████████████████████████████| 235/235 [00:01<00:00, 172.50it/s]\n"
     ]
    },
    {
     "name": "stdout",
     "output_type": "stream",
     "text": [
      "Epoch 100/150: 100%|██████████████| 547/547 [00:51<00:00, 10.60it/s, Loss_D=1.87e-6, Loss_G=0.00447]\n"
     ]
    },
    {
     "name": "stderr",
     "output_type": "stream",
     "text": [
      "Validation 100/150: 100%|████████████████████████████████████████| 235/235 [00:01<00:00, 168.59it/s]\n"
     ]
    },
    {
     "name": "stdout",
     "output_type": "stream",
     "text": [
      "Epoch 101/150: 100%|██████████████| 547/547 [00:50<00:00, 10.75it/s, Loss_D=1.38e-6, Loss_G=0.00446]\n"
     ]
    },
    {
     "name": "stderr",
     "output_type": "stream",
     "text": [
      "Validation 101/150: 100%|████████████████████████████████████████| 235/235 [00:01<00:00, 175.00it/s]\n"
     ]
    },
    {
     "name": "stdout",
     "output_type": "stream",
     "text": [
      "Epoch 102/150: 100%|██████████████| 547/547 [00:51<00:00, 10.65it/s, Loss_D=1.12e-6, Loss_G=0.00447]\n"
     ]
    },
    {
     "name": "stderr",
     "output_type": "stream",
     "text": [
      "Validation 102/150: 100%|████████████████████████████████████████| 235/235 [00:01<00:00, 142.25it/s]\n"
     ]
    },
    {
     "name": "stdout",
     "output_type": "stream",
     "text": [
      "Epoch 103/150: 100%|██████████████| 547/547 [00:51<00:00, 10.65it/s, Loss_D=9.64e-7, Loss_G=0.00445]\n"
     ]
    },
    {
     "name": "stderr",
     "output_type": "stream",
     "text": [
      "Validation 103/150: 100%|████████████████████████████████████████| 235/235 [00:01<00:00, 176.42it/s]\n"
     ]
    },
    {
     "name": "stdout",
     "output_type": "stream",
     "text": [
      "Epoch 104/150: 100%|████████████████| 547/547 [00:51<00:00, 10.71it/s, Loss_D=0.784, Loss_G=0.00455]\n"
     ]
    },
    {
     "name": "stderr",
     "output_type": "stream",
     "text": [
      "Validation 104/150: 100%|████████████████████████████████████████| 235/235 [00:01<00:00, 182.88it/s]\n"
     ]
    },
    {
     "name": "stdout",
     "output_type": "stream",
     "text": [
      "Epoch 105/150: 100%|████████████████| 547/547 [00:51<00:00, 10.72it/s, Loss_D=0.925, Loss_G=0.00446]\n"
     ]
    },
    {
     "name": "stderr",
     "output_type": "stream",
     "text": [
      "Validation 105/150: 100%|████████████████████████████████████████| 235/235 [00:01<00:00, 177.84it/s]\n"
     ]
    },
    {
     "name": "stdout",
     "output_type": "stream",
     "text": [
      "Epoch 106/150: 100%|████████████████| 547/547 [00:51<00:00, 10.64it/s, Loss_D=0.764, Loss_G=0.00475]\n"
     ]
    },
    {
     "name": "stderr",
     "output_type": "stream",
     "text": [
      "Validation 106/150: 100%|████████████████████████████████████████| 235/235 [00:01<00:00, 177.36it/s]\n"
     ]
    },
    {
     "name": "stdout",
     "output_type": "stream",
     "text": [
      "Epoch 107/150: 100%|████████████████| 547/547 [00:51<00:00, 10.57it/s, Loss_D=0.793, Loss_G=0.00475]\n"
     ]
    },
    {
     "name": "stderr",
     "output_type": "stream",
     "text": [
      "Validation 107/150: 100%|████████████████████████████████████████| 235/235 [00:01<00:00, 181.42it/s]\n"
     ]
    },
    {
     "name": "stdout",
     "output_type": "stream",
     "text": [
      "Epoch 108/150: 100%|████████████████| 547/547 [00:51<00:00, 10.55it/s, Loss_D=0.166, Loss_G=0.00455]\n"
     ]
    },
    {
     "name": "stderr",
     "output_type": "stream",
     "text": [
      "Validation 108/150: 100%|████████████████████████████████████████| 235/235 [00:01<00:00, 174.98it/s]\n"
     ]
    },
    {
     "name": "stdout",
     "output_type": "stream",
     "text": [
      "Epoch 109/150: 100%|█████████████| 547/547 [00:51<00:00, 10.68it/s, Loss_D=0.000157, Loss_G=0.00443]\n"
     ]
    },
    {
     "name": "stderr",
     "output_type": "stream",
     "text": [
      "Validation 109/150: 100%|████████████████████████████████████████| 235/235 [00:01<00:00, 177.85it/s]\n"
     ]
    },
    {
     "name": "stdout",
     "output_type": "stream",
     "text": [
      "Epoch 110/150: 100%|██████████████| 547/547 [00:51<00:00, 10.58it/s, Loss_D=9.56e-5, Loss_G=0.00442]\n"
     ]
    },
    {
     "name": "stderr",
     "output_type": "stream",
     "text": [
      "Validation 110/150: 100%|████████████████████████████████████████| 235/235 [00:01<00:00, 147.88it/s]\n"
     ]
    },
    {
     "name": "stdout",
     "output_type": "stream",
     "text": [
      "Epoch 111/150: 100%|██████████████| 547/547 [00:51<00:00, 10.57it/s, Loss_D=0.00013, Loss_G=0.00443]\n"
     ]
    },
    {
     "name": "stderr",
     "output_type": "stream",
     "text": [
      "Validation 111/150: 100%|████████████████████████████████████████| 235/235 [00:01<00:00, 173.27it/s]\n"
     ]
    },
    {
     "name": "stdout",
     "output_type": "stream",
     "text": [
      "Epoch 112/150: 100%|███████████████| 547/547 [00:51<00:00, 10.55it/s, Loss_D=4.9e-5, Loss_G=0.00443]\n"
     ]
    },
    {
     "name": "stderr",
     "output_type": "stream",
     "text": [
      "Validation 112/150: 100%|████████████████████████████████████████| 235/235 [00:01<00:00, 148.13it/s]\n"
     ]
    },
    {
     "name": "stdout",
     "output_type": "stream",
     "text": [
      "Epoch 113/150: 100%|███████████████| 547/547 [00:51<00:00, 10.60it/s, Loss_D=4.9e-5, Loss_G=0.00442]\n"
     ]
    },
    {
     "name": "stderr",
     "output_type": "stream",
     "text": [
      "Validation 113/150: 100%|████████████████████████████████████████| 235/235 [00:01<00:00, 163.91it/s]\n"
     ]
    },
    {
     "name": "stdout",
     "output_type": "stream",
     "text": [
      "Epoch 114/150: 100%|██████████████| 547/547 [00:52<00:00, 10.41it/s, Loss_D=4.83e-5, Loss_G=0.00442]\n"
     ]
    },
    {
     "name": "stderr",
     "output_type": "stream",
     "text": [
      "Validation 114/150: 100%|████████████████████████████████████████| 235/235 [00:01<00:00, 174.04it/s]\n"
     ]
    },
    {
     "name": "stdout",
     "output_type": "stream",
     "text": [
      "Epoch 115/150: 100%|██████████████| 547/547 [00:50<00:00, 10.80it/s, Loss_D=9.56e-5, Loss_G=0.00442]\n"
     ]
    },
    {
     "name": "stderr",
     "output_type": "stream",
     "text": [
      "Validation 115/150: 100%|████████████████████████████████████████| 235/235 [00:01<00:00, 172.99it/s]\n"
     ]
    },
    {
     "name": "stdout",
     "output_type": "stream",
     "text": [
      "Epoch 116/150: 100%|██████████████| 547/547 [00:52<00:00, 10.49it/s, Loss_D=3.37e-5, Loss_G=0.00442]\n"
     ]
    },
    {
     "name": "stderr",
     "output_type": "stream",
     "text": [
      "Validation 116/150: 100%|████████████████████████████████████████| 235/235 [00:01<00:00, 174.54it/s]\n"
     ]
    },
    {
     "name": "stdout",
     "output_type": "stream",
     "text": [
      "Epoch 117/150: 100%|███████████████| 547/547 [00:51<00:00, 10.58it/s, Loss_D=2.1e-5, Loss_G=0.00441]\n"
     ]
    },
    {
     "name": "stderr",
     "output_type": "stream",
     "text": [
      "Validation 117/150: 100%|████████████████████████████████████████| 235/235 [00:01<00:00, 182.29it/s]\n"
     ]
    },
    {
     "name": "stdout",
     "output_type": "stream",
     "text": [
      "Epoch 118/150: 100%|██████████████| 547/547 [00:50<00:00, 10.94it/s, Loss_D=1.65e-5, Loss_G=0.00441]\n"
     ]
    },
    {
     "name": "stderr",
     "output_type": "stream",
     "text": [
      "Validation 118/150: 100%|████████████████████████████████████████| 235/235 [00:01<00:00, 181.83it/s]\n"
     ]
    },
    {
     "name": "stdout",
     "output_type": "stream",
     "text": [
      "Epoch 119/150: 100%|██████████████| 547/547 [00:50<00:00, 10.84it/s, Loss_D=1.69e-5, Loss_G=0.00441]\n"
     ]
    },
    {
     "name": "stderr",
     "output_type": "stream",
     "text": [
      "Validation 119/150: 100%|████████████████████████████████████████| 235/235 [00:01<00:00, 147.37it/s]\n"
     ]
    },
    {
     "name": "stdout",
     "output_type": "stream",
     "text": [
      "Epoch 120/150: 100%|███████████████| 547/547 [00:49<00:00, 10.99it/s, Loss_D=1.06e-5, Loss_G=0.0044]\n"
     ]
    },
    {
     "name": "stderr",
     "output_type": "stream",
     "text": [
      "Validation 120/150: 100%|████████████████████████████████████████| 235/235 [00:01<00:00, 184.05it/s]\n"
     ]
    },
    {
     "name": "stdout",
     "output_type": "stream",
     "text": [
      "Epoch 121/150: 100%|███████████████| 547/547 [00:49<00:00, 10.95it/s, Loss_D=8.98e-6, Loss_G=0.0044]\n"
     ]
    },
    {
     "name": "stderr",
     "output_type": "stream",
     "text": [
      "Validation 121/150: 100%|████████████████████████████████████████| 235/235 [00:01<00:00, 173.37it/s]\n"
     ]
    },
    {
     "name": "stdout",
     "output_type": "stream",
     "text": [
      "Epoch 122/150: 100%|██████████████| 547/547 [00:50<00:00, 10.84it/s, Loss_D=9.08e-6, Loss_G=0.00439]\n"
     ]
    },
    {
     "name": "stderr",
     "output_type": "stream",
     "text": [
      "Validation 122/150: 100%|████████████████████████████████████████| 235/235 [00:01<00:00, 185.39it/s]\n"
     ]
    },
    {
     "name": "stdout",
     "output_type": "stream",
     "text": [
      "Epoch 123/150: 100%|██████████████| 547/547 [00:50<00:00, 10.89it/s, Loss_D=6.11e-6, Loss_G=0.00439]\n"
     ]
    },
    {
     "name": "stderr",
     "output_type": "stream",
     "text": [
      "Validation 123/150: 100%|████████████████████████████████████████| 235/235 [00:01<00:00, 180.34it/s]\n"
     ]
    },
    {
     "name": "stdout",
     "output_type": "stream",
     "text": [
      "Epoch 124/150: 100%|██████████████| 547/547 [00:50<00:00, 10.86it/s, Loss_D=0.00116, Loss_G=0.00439]\n"
     ]
    },
    {
     "name": "stderr",
     "output_type": "stream",
     "text": [
      "Validation 124/150: 100%|████████████████████████████████████████| 235/235 [00:01<00:00, 181.38it/s]\n"
     ]
    },
    {
     "name": "stdout",
     "output_type": "stream",
     "text": [
      "Epoch 125/150: 100%|███████████████| 547/547 [00:50<00:00, 10.77it/s, Loss_D=2.5e-5, Loss_G=0.00439]\n"
     ]
    },
    {
     "name": "stderr",
     "output_type": "stream",
     "text": [
      "Validation 125/150: 100%|████████████████████████████████████████| 235/235 [00:01<00:00, 152.18it/s]\n"
     ]
    },
    {
     "name": "stdout",
     "output_type": "stream",
     "text": [
      "Epoch 126/150: 100%|███████████████| 547/547 [00:51<00:00, 10.56it/s, Loss_D=2.3e-5, Loss_G=0.00438]\n"
     ]
    },
    {
     "name": "stderr",
     "output_type": "stream",
     "text": [
      "Validation 126/150: 100%|████████████████████████████████████████| 235/235 [00:01<00:00, 153.85it/s]\n"
     ]
    },
    {
     "name": "stdout",
     "output_type": "stream",
     "text": [
      "Epoch 127/150: 100%|██████████████| 547/547 [00:50<00:00, 10.78it/s, Loss_D=1.21e-5, Loss_G=0.00438]\n"
     ]
    },
    {
     "name": "stderr",
     "output_type": "stream",
     "text": [
      "Validation 127/150: 100%|████████████████████████████████████████| 235/235 [00:01<00:00, 187.52it/s]\n"
     ]
    },
    {
     "name": "stdout",
     "output_type": "stream",
     "text": [
      "Epoch 128/150: 100%|██████████████| 547/547 [00:49<00:00, 11.01it/s, Loss_D=9.06e-6, Loss_G=0.00438]\n"
     ]
    },
    {
     "name": "stderr",
     "output_type": "stream",
     "text": [
      "Validation 128/150: 100%|████████████████████████████████████████| 235/235 [00:01<00:00, 190.61it/s]\n"
     ]
    },
    {
     "name": "stdout",
     "output_type": "stream",
     "text": [
      "Epoch 129/150: 100%|██████████████| 547/547 [00:49<00:00, 10.99it/s, Loss_D=6.55e-6, Loss_G=0.00437]\n"
     ]
    },
    {
     "name": "stderr",
     "output_type": "stream",
     "text": [
      "Validation 129/150: 100%|████████████████████████████████████████| 235/235 [00:01<00:00, 172.59it/s]\n"
     ]
    },
    {
     "name": "stdout",
     "output_type": "stream",
     "text": [
      "Epoch 130/150: 100%|██████████████| 547/547 [00:51<00:00, 10.67it/s, Loss_D=5.78e-6, Loss_G=0.00437]\n"
     ]
    },
    {
     "name": "stderr",
     "output_type": "stream",
     "text": [
      "Validation 130/150: 100%|████████████████████████████████████████| 235/235 [00:01<00:00, 180.25it/s]\n"
     ]
    },
    {
     "name": "stdout",
     "output_type": "stream",
     "text": [
      "Epoch 131/150: 100%|██████████████| 547/547 [00:51<00:00, 10.66it/s, Loss_D=4.85e-6, Loss_G=0.00436]\n"
     ]
    },
    {
     "name": "stderr",
     "output_type": "stream",
     "text": [
      "Validation 131/150: 100%|████████████████████████████████████████| 235/235 [00:01<00:00, 177.83it/s]\n"
     ]
    },
    {
     "name": "stdout",
     "output_type": "stream",
     "text": [
      "Epoch 132/150: 100%|██████████████| 547/547 [00:51<00:00, 10.67it/s, Loss_D=5.15e-6, Loss_G=0.00436]\n"
     ]
    },
    {
     "name": "stderr",
     "output_type": "stream",
     "text": [
      "Validation 132/150: 100%|████████████████████████████████████████| 235/235 [00:01<00:00, 172.45it/s]\n"
     ]
    },
    {
     "name": "stdout",
     "output_type": "stream",
     "text": [
      "Epoch 133/150: 100%|██████████████| 547/547 [00:51<00:00, 10.64it/s, Loss_D=3.06e-6, Loss_G=0.00436]\n"
     ]
    },
    {
     "name": "stderr",
     "output_type": "stream",
     "text": [
      "Validation 133/150: 100%|████████████████████████████████████████| 235/235 [00:01<00:00, 146.62it/s]\n"
     ]
    },
    {
     "name": "stdout",
     "output_type": "stream",
     "text": [
      "Epoch 134/150: 100%|███████████████| 547/547 [00:51<00:00, 10.70it/s, Loss_D=2.3e-6, Loss_G=0.00436]\n"
     ]
    },
    {
     "name": "stderr",
     "output_type": "stream",
     "text": [
      "Validation 134/150: 100%|████████████████████████████████████████| 235/235 [00:01<00:00, 180.00it/s]\n"
     ]
    },
    {
     "name": "stdout",
     "output_type": "stream",
     "text": [
      "Epoch 135/150: 100%|██████████████| 547/547 [00:51<00:00, 10.66it/s, Loss_D=1.95e-6, Loss_G=0.00435]\n"
     ]
    },
    {
     "name": "stderr",
     "output_type": "stream",
     "text": [
      "Validation 135/150: 100%|████████████████████████████████████████| 235/235 [00:01<00:00, 168.81it/s]\n"
     ]
    },
    {
     "name": "stdout",
     "output_type": "stream",
     "text": [
      "Epoch 136/150: 100%|██████████████| 547/547 [00:51<00:00, 10.64it/s, Loss_D=1.48e-6, Loss_G=0.00435]\n"
     ]
    },
    {
     "name": "stderr",
     "output_type": "stream",
     "text": [
      "Validation 136/150: 100%|████████████████████████████████████████| 235/235 [00:01<00:00, 161.86it/s]\n"
     ]
    },
    {
     "name": "stdout",
     "output_type": "stream",
     "text": [
      "Epoch 137/150: 100%|██████████████| 547/547 [00:51<00:00, 10.69it/s, Loss_D=1.25e-6, Loss_G=0.00435]\n"
     ]
    },
    {
     "name": "stderr",
     "output_type": "stream",
     "text": [
      "Validation 137/150: 100%|████████████████████████████████████████| 235/235 [00:01<00:00, 170.54it/s]\n"
     ]
    },
    {
     "name": "stdout",
     "output_type": "stream",
     "text": [
      "Epoch 138/150: 100%|██████████████| 547/547 [00:51<00:00, 10.65it/s, Loss_D=1.04e-6, Loss_G=0.00435]\n"
     ]
    },
    {
     "name": "stderr",
     "output_type": "stream",
     "text": [
      "Validation 138/150: 100%|████████████████████████████████████████| 235/235 [00:01<00:00, 169.59it/s]\n"
     ]
    },
    {
     "name": "stdout",
     "output_type": "stream",
     "text": [
      "Epoch 139/150: 100%|█████████████████| 547/547 [00:51<00:00, 10.70it/s, Loss_D=1e-6, Loss_G=0.00434]\n"
     ]
    },
    {
     "name": "stderr",
     "output_type": "stream",
     "text": [
      "Validation 139/150: 100%|████████████████████████████████████████| 235/235 [00:01<00:00, 167.16it/s]\n"
     ]
    },
    {
     "name": "stdout",
     "output_type": "stream",
     "text": [
      "Epoch 140/150: 100%|██████████████| 547/547 [00:52<00:00, 10.46it/s, Loss_D=6.36e-7, Loss_G=0.00434]\n"
     ]
    },
    {
     "name": "stderr",
     "output_type": "stream",
     "text": [
      "Validation 140/150: 100%|████████████████████████████████████████| 235/235 [00:01<00:00, 161.47it/s]\n"
     ]
    },
    {
     "name": "stdout",
     "output_type": "stream",
     "text": [
      "Epoch 141/150: 100%|██████████████| 547/547 [00:51<00:00, 10.69it/s, Loss_D=0.00205, Loss_G=0.00434]\n"
     ]
    },
    {
     "name": "stderr",
     "output_type": "stream",
     "text": [
      "Validation 141/150: 100%|████████████████████████████████████████| 235/235 [00:01<00:00, 167.80it/s]\n"
     ]
    },
    {
     "name": "stdout",
     "output_type": "stream",
     "text": [
      "Epoch 142/150: 100%|██████████████| 547/547 [00:51<00:00, 10.70it/s, Loss_D=2.43e-5, Loss_G=0.00433]\n"
     ]
    },
    {
     "name": "stderr",
     "output_type": "stream",
     "text": [
      "Validation 142/150: 100%|████████████████████████████████████████| 235/235 [00:01<00:00, 180.17it/s]\n"
     ]
    },
    {
     "name": "stdout",
     "output_type": "stream",
     "text": [
      "Epoch 143/150: 100%|███████████████| 547/547 [00:51<00:00, 10.69it/s, Loss_D=0.0207, Loss_G=0.00438]\n"
     ]
    },
    {
     "name": "stderr",
     "output_type": "stream",
     "text": [
      "Validation 143/150: 100%|████████████████████████████████████████| 235/235 [00:01<00:00, 179.40it/s]\n"
     ]
    },
    {
     "name": "stdout",
     "output_type": "stream",
     "text": [
      "Epoch 144/150: 100%|███████████████| 547/547 [00:51<00:00, 10.68it/s, Loss_D=3.3e-5, Loss_G=0.00433]\n"
     ]
    },
    {
     "name": "stderr",
     "output_type": "stream",
     "text": [
      "Validation 144/150: 100%|████████████████████████████████████████| 235/235 [00:01<00:00, 170.80it/s]\n"
     ]
    },
    {
     "name": "stdout",
     "output_type": "stream",
     "text": [
      "Epoch 145/150: 100%|██████████████| 547/547 [00:51<00:00, 10.69it/s, Loss_D=8.76e-6, Loss_G=0.00432]\n"
     ]
    },
    {
     "name": "stderr",
     "output_type": "stream",
     "text": [
      "Validation 145/150: 100%|████████████████████████████████████████| 235/235 [00:01<00:00, 174.17it/s]\n"
     ]
    },
    {
     "name": "stdout",
     "output_type": "stream",
     "text": [
      "Epoch 146/150: 100%|██████████████| 547/547 [00:50<00:00, 10.74it/s, Loss_D=7.72e-6, Loss_G=0.00432]\n"
     ]
    },
    {
     "name": "stderr",
     "output_type": "stream",
     "text": [
      "Validation 146/150: 100%|████████████████████████████████████████| 235/235 [00:01<00:00, 179.24it/s]\n"
     ]
    },
    {
     "name": "stdout",
     "output_type": "stream",
     "text": [
      "Epoch 147/150: 100%|██████████████| 547/547 [00:51<00:00, 10.61it/s, Loss_D=7.56e-6, Loss_G=0.00433]\n"
     ]
    },
    {
     "name": "stderr",
     "output_type": "stream",
     "text": [
      "Validation 147/150: 100%|████████████████████████████████████████| 235/235 [00:01<00:00, 171.72it/s]\n"
     ]
    },
    {
     "name": "stdout",
     "output_type": "stream",
     "text": [
      "Epoch 148/150: 100%|██████████████| 547/547 [00:51<00:00, 10.68it/s, Loss_D=4.87e-6, Loss_G=0.00432]\n"
     ]
    },
    {
     "name": "stderr",
     "output_type": "stream",
     "text": [
      "Validation 148/150: 100%|████████████████████████████████████████| 235/235 [00:01<00:00, 175.04it/s]\n"
     ]
    },
    {
     "name": "stdout",
     "output_type": "stream",
     "text": [
      "Epoch 149/150: 100%|██████████████| 547/547 [00:51<00:00, 10.65it/s, Loss_D=4.29e-6, Loss_G=0.00432]\n"
     ]
    },
    {
     "name": "stderr",
     "output_type": "stream",
     "text": [
      "Validation 149/150: 100%|████████████████████████████████████████| 235/235 [00:01<00:00, 178.62it/s]\n"
     ]
    },
    {
     "name": "stdout",
     "output_type": "stream",
     "text": [
      "Epoch 150/150: 100%|██████████████| 547/547 [00:51<00:00, 10.72it/s, Loss_D=5.46e-6, Loss_G=0.00431]\n"
     ]
    },
    {
     "name": "stderr",
     "output_type": "stream",
     "text": [
      "Validation 150/150: 100%|████████████████████████████████████████| 235/235 [00:01<00:00, 177.41it/s]\n"
     ]
    }
   ],
   "source": [
    "netG, data_frame = train(train_loader, test_loader, num_epochs=150, learning_rate=0.0001)"
   ]
  },
  {
   "cell_type": "code",
   "execution_count": 73,
   "metadata": {},
   "outputs": [
    {
     "data": {
      "text/html": [
       "<div>\n",
       "<style scoped>\n",
       "    .dataframe tbody tr th:only-of-type {\n",
       "        vertical-align: middle;\n",
       "    }\n",
       "\n",
       "    .dataframe tbody tr th {\n",
       "        vertical-align: top;\n",
       "    }\n",
       "\n",
       "    .dataframe thead th {\n",
       "        text-align: right;\n",
       "    }\n",
       "</style>\n",
       "<table border=\"1\" class=\"dataframe\">\n",
       "  <thead>\n",
       "    <tr style=\"text-align: right;\">\n",
       "      <th></th>\n",
       "      <th>Loss_D</th>\n",
       "      <th>Loss_G</th>\n",
       "      <th>Score_D</th>\n",
       "      <th>Score_G</th>\n",
       "      <th>PSNR</th>\n",
       "    </tr>\n",
       "  </thead>\n",
       "  <tbody>\n",
       "    <tr>\n",
       "      <th>1</th>\n",
       "      <td>0.629884</td>\n",
       "      <td>0.011426</td>\n",
       "      <td>0.685475</td>\n",
       "      <td>0.318691</td>\n",
       "      <td>24.788773</td>\n",
       "    </tr>\n",
       "    <tr>\n",
       "      <th>2</th>\n",
       "      <td>0.087192</td>\n",
       "      <td>0.008547</td>\n",
       "      <td>0.958464</td>\n",
       "      <td>0.046223</td>\n",
       "      <td>24.807351</td>\n",
       "    </tr>\n",
       "    <tr>\n",
       "      <th>3</th>\n",
       "      <td>0.018746</td>\n",
       "      <td>0.007965</td>\n",
       "      <td>0.991076</td>\n",
       "      <td>0.010221</td>\n",
       "      <td>25.102318</td>\n",
       "    </tr>\n",
       "    <tr>\n",
       "      <th>4</th>\n",
       "      <td>0.611292</td>\n",
       "      <td>0.007719</td>\n",
       "      <td>0.552926</td>\n",
       "      <td>0.194305</td>\n",
       "      <td>25.441290</td>\n",
       "    </tr>\n",
       "    <tr>\n",
       "      <th>5</th>\n",
       "      <td>0.022896</td>\n",
       "      <td>0.007342</td>\n",
       "      <td>0.988797</td>\n",
       "      <td>0.011800</td>\n",
       "      <td>25.554746</td>\n",
       "    </tr>\n",
       "    <tr>\n",
       "      <th>...</th>\n",
       "      <td>...</td>\n",
       "      <td>...</td>\n",
       "      <td>...</td>\n",
       "      <td>...</td>\n",
       "      <td>...</td>\n",
       "    </tr>\n",
       "    <tr>\n",
       "      <th>146</th>\n",
       "      <td>0.000008</td>\n",
       "      <td>0.004317</td>\n",
       "      <td>0.999996</td>\n",
       "      <td>0.000004</td>\n",
       "      <td>26.701215</td>\n",
       "    </tr>\n",
       "    <tr>\n",
       "      <th>147</th>\n",
       "      <td>0.000008</td>\n",
       "      <td>0.004326</td>\n",
       "      <td>0.999996</td>\n",
       "      <td>0.000003</td>\n",
       "      <td>26.693753</td>\n",
       "    </tr>\n",
       "    <tr>\n",
       "      <th>148</th>\n",
       "      <td>0.000005</td>\n",
       "      <td>0.004318</td>\n",
       "      <td>0.999998</td>\n",
       "      <td>0.000003</td>\n",
       "      <td>26.683477</td>\n",
       "    </tr>\n",
       "    <tr>\n",
       "      <th>149</th>\n",
       "      <td>0.000004</td>\n",
       "      <td>0.004320</td>\n",
       "      <td>0.999998</td>\n",
       "      <td>0.000002</td>\n",
       "      <td>26.688138</td>\n",
       "    </tr>\n",
       "    <tr>\n",
       "      <th>150</th>\n",
       "      <td>0.000005</td>\n",
       "      <td>0.004313</td>\n",
       "      <td>0.999997</td>\n",
       "      <td>0.000003</td>\n",
       "      <td>26.660816</td>\n",
       "    </tr>\n",
       "  </tbody>\n",
       "</table>\n",
       "<p>150 rows × 5 columns</p>\n",
       "</div>"
      ],
      "text/plain": [
       "       Loss_D    Loss_G   Score_D   Score_G       PSNR\n",
       "1    0.629884  0.011426  0.685475  0.318691  24.788773\n",
       "2    0.087192  0.008547  0.958464  0.046223  24.807351\n",
       "3    0.018746  0.007965  0.991076  0.010221  25.102318\n",
       "4    0.611292  0.007719  0.552926  0.194305  25.441290\n",
       "5    0.022896  0.007342  0.988797  0.011800  25.554746\n",
       "..        ...       ...       ...       ...        ...\n",
       "146  0.000008  0.004317  0.999996  0.000004  26.701215\n",
       "147  0.000008  0.004326  0.999996  0.000003  26.693753\n",
       "148  0.000005  0.004318  0.999998  0.000003  26.683477\n",
       "149  0.000004  0.004320  0.999998  0.000002  26.688138\n",
       "150  0.000005  0.004313  0.999997  0.000003  26.660816\n",
       "\n",
       "[150 rows x 5 columns]"
      ]
     },
     "execution_count": 73,
     "metadata": {},
     "output_type": "execute_result"
    }
   ],
   "source": [
    "data_frame"
   ]
  },
  {
   "cell_type": "code",
   "execution_count": 126,
   "metadata": {},
   "outputs": [
    {
     "data": {
      "image/png": "[encoded data removed]",
      "text/plain": [
       "<Figure size 1000x600 with 1 Axes>"
      ]
     },
     "metadata": {},
     "output_type": "display_data"
    }
   ],
   "source": [
    "plot_loss(data_frame['Loss_D'], 'discriminator')\n"
   ]
  },
  {
   "cell_type": "code",
   "execution_count": 127,
   "metadata": {},
   "outputs": [
    {
     "data": {
      "image/png": "[encoded data removed]",
      "text/plain": [
       "<Figure size 1000x600 with 1 Axes>"
      ]
     },
     "metadata": {},
     "output_type": "display_data"
    }
   ],
   "source": [
    "plot_loss(data_frame['Loss_G'], 'generator')"
   ]
  },
  {
   "cell_type": "code",
   "execution_count": 118,
   "metadata": {},
   "outputs": [
    {
     "data": {
      "text/html": [
       "<div>\n",
       "<style scoped>\n",
       "    .dataframe tbody tr th:only-of-type {\n",
       "        vertical-align: middle;\n",
       "    }\n",
       "\n",
       "    .dataframe tbody tr th {\n",
       "        vertical-align: top;\n",
       "    }\n",
       "\n",
       "    .dataframe thead th {\n",
       "        text-align: right;\n",
       "    }\n",
       "</style>\n",
       "<table border=\"1\" class=\"dataframe\">\n",
       "  <thead>\n",
       "    <tr style=\"text-align: right;\">\n",
       "      <th></th>\n",
       "      <th>Loss_D</th>\n",
       "      <th>Loss_G</th>\n",
       "      <th>Score_D</th>\n",
       "      <th>Score_G</th>\n",
       "      <th>PSNR</th>\n",
       "    </tr>\n",
       "  </thead>\n",
       "  <tbody>\n",
       "    <tr>\n",
       "      <th>1</th>\n",
       "      <td>0.629884</td>\n",
       "      <td>0.011426</td>\n",
       "      <td>0.685475</td>\n",
       "      <td>0.318691</td>\n",
       "      <td>24.788773</td>\n",
       "    </tr>\n",
       "    <tr>\n",
       "      <th>2</th>\n",
       "      <td>0.087192</td>\n",
       "      <td>0.008547</td>\n",
       "      <td>0.958464</td>\n",
       "      <td>0.046223</td>\n",
       "      <td>24.807351</td>\n",
       "    </tr>\n",
       "    <tr>\n",
       "      <th>3</th>\n",
       "      <td>0.018746</td>\n",
       "      <td>0.007965</td>\n",
       "      <td>0.991076</td>\n",
       "      <td>0.010221</td>\n",
       "      <td>25.102318</td>\n",
       "    </tr>\n",
       "    <tr>\n",
       "      <th>4</th>\n",
       "      <td>0.611292</td>\n",
       "      <td>0.007719</td>\n",
       "      <td>0.552926</td>\n",
       "      <td>0.194305</td>\n",
       "      <td>25.441290</td>\n",
       "    </tr>\n",
       "    <tr>\n",
       "      <th>5</th>\n",
       "      <td>0.022896</td>\n",
       "      <td>0.007342</td>\n",
       "      <td>0.988797</td>\n",
       "      <td>0.011800</td>\n",
       "      <td>25.554746</td>\n",
       "    </tr>\n",
       "    <tr>\n",
       "      <th>...</th>\n",
       "      <td>...</td>\n",
       "      <td>...</td>\n",
       "      <td>...</td>\n",
       "      <td>...</td>\n",
       "      <td>...</td>\n",
       "    </tr>\n",
       "    <tr>\n",
       "      <th>146</th>\n",
       "      <td>0.000008</td>\n",
       "      <td>0.004317</td>\n",
       "      <td>0.999996</td>\n",
       "      <td>0.000004</td>\n",
       "      <td>26.701215</td>\n",
       "    </tr>\n",
       "    <tr>\n",
       "      <th>147</th>\n",
       "      <td>0.000008</td>\n",
       "      <td>0.004326</td>\n",
       "      <td>0.999996</td>\n",
       "      <td>0.000003</td>\n",
       "      <td>26.693753</td>\n",
       "    </tr>\n",
       "    <tr>\n",
       "      <th>148</th>\n",
       "      <td>0.000005</td>\n",
       "      <td>0.004318</td>\n",
       "      <td>0.999998</td>\n",
       "      <td>0.000003</td>\n",
       "      <td>26.683477</td>\n",
       "    </tr>\n",
       "    <tr>\n",
       "      <th>149</th>\n",
       "      <td>0.000004</td>\n",
       "      <td>0.004320</td>\n",
       "      <td>0.999998</td>\n",
       "      <td>0.000002</td>\n",
       "      <td>26.688138</td>\n",
       "    </tr>\n",
       "    <tr>\n",
       "      <th>150</th>\n",
       "      <td>0.000005</td>\n",
       "      <td>0.004313</td>\n",
       "      <td>0.999997</td>\n",
       "      <td>0.000003</td>\n",
       "      <td>26.660816</td>\n",
       "    </tr>\n",
       "  </tbody>\n",
       "</table>\n",
       "<p>150 rows × 5 columns</p>\n",
       "</div>"
      ],
      "text/plain": [
       "       Loss_D    Loss_G   Score_D   Score_G       PSNR\n",
       "1    0.629884  0.011426  0.685475  0.318691  24.788773\n",
       "2    0.087192  0.008547  0.958464  0.046223  24.807351\n",
       "3    0.018746  0.007965  0.991076  0.010221  25.102318\n",
       "4    0.611292  0.007719  0.552926  0.194305  25.441290\n",
       "5    0.022896  0.007342  0.988797  0.011800  25.554746\n",
       "..        ...       ...       ...       ...        ...\n",
       "146  0.000008  0.004317  0.999996  0.000004  26.701215\n",
       "147  0.000008  0.004326  0.999996  0.000003  26.693753\n",
       "148  0.000005  0.004318  0.999998  0.000003  26.683477\n",
       "149  0.000004  0.004320  0.999998  0.000002  26.688138\n",
       "150  0.000005  0.004313  0.999997  0.000003  26.660816\n",
       "\n",
       "[150 rows x 5 columns]"
      ]
     },
     "execution_count": 118,
     "metadata": {},
     "output_type": "execute_result"
    }
   ],
   "source": [
    "data_frame"
   ]
  },
  {
   "cell_type": "code",
   "execution_count": 74,
   "metadata": {},
   "outputs": [],
   "source": [
    "torch.save(netG.state_dict(), 'srgan.pth')"
   ]
  },
  {
   "cell_type": "code",
   "execution_count": 96,
   "metadata": {},
   "outputs": [],
   "source": [
    "def generate_dataset(netG, test_loader):\n",
    "    netG.eval()\n",
    "    device = 'cuda' if torch.cuda.is_available() else 'cpu'\n",
    "    out_path = 'training_results/fake_data' + '/'\n",
    "    l_r_path = 'training_results/low_res_data' + '/'\n",
    "    h_r_path = 'training_results/high_res_data' + '/'\n",
    "    if not os.path.exists(out_path):\n",
    "        os.makedirs(out_path)\n",
    "    if not os.path.exists(l_r_path):\n",
    "        os.makedirs(l_r_path)\n",
    "    if not os.path.exists(h_r_path):\n",
    "        os.makedirs(h_r_path)\n",
    "    count = 0\n",
    "    with torch.no_grad():\n",
    "        for val_lr, val_hr, labels in tqdm(test_loader):\n",
    "            if count >= 1000:\n",
    "                break\n",
    "            batch_size = val_lr.size(0)\n",
    "            lr = val_lr\n",
    "            if device == 'cuda':\n",
    "                lr = lr.float().cuda()\n",
    "            fake_img = netG(lr)\n",
    "            for i in range(batch_size):\n",
    "                label = labels[i].item()\n",
    "                str_label = 'cat' if label == 0 else 'dog'\n",
    "                utils.save_image(fake_img[i], out_path + str(count)  + '_' + str_label + '.png')\n",
    "                utils.save_image(lr[i], l_r_path + str(count) + '_' + str_label + '.png')\n",
    "                utils.save_image(val_hr[i], h_r_path + str(count) + '_' + str_label + '.png')\n",
    "                count += 1\n"
   ]
  },
  {
   "cell_type": "code",
   "execution_count": 97,
   "metadata": {},
   "outputs": [
    {
     "name": "stderr",
     "output_type": "stream",
     "text": [
      "  6%|▌         | 32/547 [00:33<08:57,  1.04s/it]\n"
     ]
    }
   ],
   "source": [
    "generate_dataset(netG, train_loader)"
   ]
  },
  {
   "cell_type": "code",
   "execution_count": 98,
   "metadata": {},
   "outputs": [
    {
     "name": "stdout",
     "output_type": "stream",
     "text": [
      "Folder 'training_results/fake_data' successfully zipped to 'training_results/fake_data.zip'\n"
     ]
    }
   ],
   "source": [
    "# Example usage: Replace 'training_results/fake_data' and 'fake_data.zip' with your desired paths\n",
    "zip_folder('training_results/fake_data', 'training_results/fake_data.zip')"
   ]
  }
 ],
 "metadata": {
  "kernelspec": {
   "display_name": "pytorch",
   "language": "python",
   "name": "python3"
  },
  "language_info": {
   "codemirror_mode": {
    "name": "ipython",
    "version": 3
   },
   "file_extension": ".py",
   "mimetype": "text/x-python",
   "name": "python",
   "nbconvert_exporter": "python",
   "pygments_lexer": "ipython3",
   "version": "3.12.5"
  }
 },
 "nbformat": 4,
 "nbformat_minor": 2
}
